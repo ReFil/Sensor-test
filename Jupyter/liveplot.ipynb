{
 "cells": [
  {
   "cell_type": "code",
   "execution_count": 1,
   "metadata": {},
   "outputs": [
    {
     "ename": "SerialException",
     "evalue": "[Errno 2] could not open port /dev/ttyUSB0: [Errno 2] No such file or directory: '/dev/ttyUSB0'",
     "output_type": "error",
     "traceback": [
      "\u001b[0;31m---------------------------------------------------------------------------\u001b[0m",
      "\u001b[0;31mFileNotFoundError\u001b[0m                         Traceback (most recent call last)",
      "File \u001b[0;32m~/.local/lib/python3.8/site-packages/serial/serialposix.py:322\u001b[0m, in \u001b[0;36mSerial.open\u001b[0;34m(self)\u001b[0m\n\u001b[1;32m    321\u001b[0m \u001b[39mtry\u001b[39;00m:\n\u001b[0;32m--> 322\u001b[0m     \u001b[39mself\u001b[39m\u001b[39m.\u001b[39mfd \u001b[39m=\u001b[39m os\u001b[39m.\u001b[39;49mopen(\u001b[39mself\u001b[39;49m\u001b[39m.\u001b[39;49mportstr, os\u001b[39m.\u001b[39;49mO_RDWR \u001b[39m|\u001b[39;49m os\u001b[39m.\u001b[39;49mO_NOCTTY \u001b[39m|\u001b[39;49m os\u001b[39m.\u001b[39;49mO_NONBLOCK)\n\u001b[1;32m    323\u001b[0m \u001b[39mexcept\u001b[39;00m \u001b[39mOSError\u001b[39;00m \u001b[39mas\u001b[39;00m msg:\n",
      "\u001b[0;31mFileNotFoundError\u001b[0m: [Errno 2] No such file or directory: '/dev/ttyUSB0'",
      "\nDuring handling of the above exception, another exception occurred:\n",
      "\u001b[0;31mSerialException\u001b[0m                           Traceback (most recent call last)",
      "Cell \u001b[0;32mIn[1], line 7\u001b[0m\n\u001b[1;32m      4\u001b[0m \u001b[39mimport\u001b[39;00m \u001b[39mmatplotlib\u001b[39;00m\u001b[39m.\u001b[39;00m\u001b[39manimation\u001b[39;00m \u001b[39mas\u001b[39;00m \u001b[39manimation\u001b[39;00m\n\u001b[1;32m      6\u001b[0m \u001b[39m# Set up serial communication with Nova SDS011 sensor\u001b[39;00m\n\u001b[0;32m----> 7\u001b[0m ser \u001b[39m=\u001b[39m serial\u001b[39m.\u001b[39;49mSerial(\u001b[39m'\u001b[39;49m\u001b[39m/dev/ttyUSB0\u001b[39;49m\u001b[39m'\u001b[39;49m)  \u001b[39m# Replace with the correct serial port for your device\u001b[39;00m\n\u001b[1;32m      8\u001b[0m ser\u001b[39m.\u001b[39mflushInput()\n\u001b[1;32m     10\u001b[0m \u001b[39m# Create lists to store PM2.5 measurements and corresponding time\u001b[39;00m\n",
      "File \u001b[0;32m~/.local/lib/python3.8/site-packages/serial/serialutil.py:244\u001b[0m, in \u001b[0;36mSerialBase.__init__\u001b[0;34m(self, port, baudrate, bytesize, parity, stopbits, timeout, xonxoff, rtscts, write_timeout, dsrdtr, inter_byte_timeout, exclusive, **kwargs)\u001b[0m\n\u001b[1;32m    241\u001b[0m     \u001b[39mraise\u001b[39;00m \u001b[39mValueError\u001b[39;00m(\u001b[39m'\u001b[39m\u001b[39munexpected keyword arguments: \u001b[39m\u001b[39m{!r}\u001b[39;00m\u001b[39m'\u001b[39m\u001b[39m.\u001b[39mformat(kwargs))\n\u001b[1;32m    243\u001b[0m \u001b[39mif\u001b[39;00m port \u001b[39mis\u001b[39;00m \u001b[39mnot\u001b[39;00m \u001b[39mNone\u001b[39;00m:\n\u001b[0;32m--> 244\u001b[0m     \u001b[39mself\u001b[39;49m\u001b[39m.\u001b[39;49mopen()\n",
      "File \u001b[0;32m~/.local/lib/python3.8/site-packages/serial/serialposix.py:325\u001b[0m, in \u001b[0;36mSerial.open\u001b[0;34m(self)\u001b[0m\n\u001b[1;32m    323\u001b[0m \u001b[39mexcept\u001b[39;00m \u001b[39mOSError\u001b[39;00m \u001b[39mas\u001b[39;00m msg:\n\u001b[1;32m    324\u001b[0m     \u001b[39mself\u001b[39m\u001b[39m.\u001b[39mfd \u001b[39m=\u001b[39m \u001b[39mNone\u001b[39;00m\n\u001b[0;32m--> 325\u001b[0m     \u001b[39mraise\u001b[39;00m SerialException(msg\u001b[39m.\u001b[39merrno, \u001b[39m\"\u001b[39m\u001b[39mcould not open port \u001b[39m\u001b[39m{}\u001b[39;00m\u001b[39m: \u001b[39m\u001b[39m{}\u001b[39;00m\u001b[39m\"\u001b[39m\u001b[39m.\u001b[39mformat(\u001b[39mself\u001b[39m\u001b[39m.\u001b[39m_port, msg))\n\u001b[1;32m    326\u001b[0m \u001b[39m#~ fcntl.fcntl(self.fd, fcntl.F_SETFL, 0)  # set blocking\u001b[39;00m\n\u001b[1;32m    328\u001b[0m \u001b[39mself\u001b[39m\u001b[39m.\u001b[39mpipe_abort_read_r, \u001b[39mself\u001b[39m\u001b[39m.\u001b[39mpipe_abort_read_w \u001b[39m=\u001b[39m \u001b[39mNone\u001b[39;00m, \u001b[39mNone\u001b[39;00m\n",
      "\u001b[0;31mSerialException\u001b[0m: [Errno 2] could not open port /dev/ttyUSB0: [Errno 2] No such file or directory: '/dev/ttyUSB0'"
     ]
    }
   ],
   "source": [
    "%matplotlib widget\n",
    "import serial\n",
    "import matplotlib.pyplot as plt\n",
    "import matplotlib.animation as animation\n",
    "\n",
    "# Set up serial communication with Nova SDS011 sensor\n",
    "ser = serial.Serial('/dev/ttyUSB0')  # Replace with the correct serial port for your device\n",
    "ser.flushInput()\n",
    "\n",
    "# Create lists to store PM2.5 measurements and corresponding time\n",
    "pm25_measurements = []\n",
    "timestamps = []\n",
    "\n",
    "# Create a figure and axes for the live plot\n",
    "fig, ax = plt.subplots()\n",
    "\n",
    "# Initialize an empty line object for the plot\n",
    "line, = ax.plot([], [])\n",
    "\n",
    "# Function to update the live plot\n",
    "def update_plot(frame):\n",
    "    # Read PM2.5 measurement from the sensor\n",
    "    ser.write(bytes(b'\\xAA\\xB4\\x06\\x01\\x00\\x00\\x00\\x00\\x00\\xFF\\xFF\\x00\\x00\\x00\\x00\\x00\\x00\\x00\\x00\\x00\\x00\\x00\\x00\\x00\\x00\\x00\\x00\\x00\\x00\\x00\\x00\\x00\\xFF\\xFF\\xFF\\xFF\\xFF\\xFF\\xFF\\xFF\\xFF\\xFF\\xFF\\xFF\\xFF\\xFF\\xFF\\xFF\\xFF\\xFF\\xFF\\xFF\\xFF\\xFF\\xFF\\xFF\\xFF\\xFF\\xFF\\xFF\\xFF\\xFF\\xFF\\xFF\\x00\\x00\\x00\\x00\\xFF\\xFF\\x06\\xAB'))\n",
    "    while ser.inWaiting() < 10:\n",
    "        pass\n",
    "    data = ser.read(10)\n",
    "    pm25 = (data[2] + data[3] * 256) / 10.0\n",
    "    \n",
    "\n",
    "    # Append the measurement to the lists\n",
    "    pm25_measurements.append(pm25)\n",
    "    timestamps.append(frame)\n",
    "\n",
    "    # Update the plot data\n",
    "    line.set_data(timestamps, pm25_measurements)\n",
    "\n",
    "    # Set appropriate plot limits\n",
    "    ax.set_xlim(0, frame+1)\n",
    "    ax.set_ylim(0, max(pm25_measurements) + 1)\n",
    "\n",
    "    return line,\n",
    "\n",
    "# Function to initialize the plot\n",
    "def init_plot():\n",
    "    ax.set_xlabel('Time')\n",
    "    ax.set_ylabel('PM2.5 (µg/m³)')\n",
    "    ax.set_title('Live PM2.5 Measurements')\n",
    "\n",
    "    return line,\n",
    "\n",
    "# Create an animation for the live plot\n",
    "ani = animation.FuncAnimation(fig, update_plot, init_func=init_plot, blit=True, interval=1000)\n",
    "\n",
    "# Display the live plot\n",
    "plt.show()\n",
    "\n"
   ]
  }
 ],
 "metadata": {
  "kernelspec": {
   "display_name": "Python 3",
   "language": "python",
   "name": "python3"
  },
  "language_info": {
   "codemirror_mode": {
    "name": "ipython",
    "version": 3
   },
   "file_extension": ".py",
   "mimetype": "text/x-python",
   "name": "python",
   "nbconvert_exporter": "python",
   "pygments_lexer": "ipython3",
   "version": "3.8.10"
  },
  "orig_nbformat": 4
 },
 "nbformat": 4,
 "nbformat_minor": 2
}
